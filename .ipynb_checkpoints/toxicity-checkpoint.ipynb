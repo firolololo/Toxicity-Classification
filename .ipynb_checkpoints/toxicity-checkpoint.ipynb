{
 "cells": [
  {
   "cell_type": "code",
   "execution_count": 1,
   "metadata": {},
   "outputs": [
    {
     "name": "stdout",
     "output_type": "stream",
     "text": [
      "Better speed can be achieved with apex installed from https://www.github.com/nvidia/apex.\n"
     ]
    }
   ],
   "source": [
    "from __future__ import absolute_import\n",
    "from __future__ import division\n",
    "from __future__ import print_function\n",
    "import torch.utils.data\n",
    "import torch.nn.functional as F\n",
    "import numpy as np\n",
    "import pandas as pd\n",
    "from tqdm import tqdm\n",
    "import os\n",
    "import warnings\n",
    "from pytorch_pretrained_bert import BertTokenizer, BertForSequenceClassification, BertAdam\n",
    "from pytorch_pretrained_bert import BertConfig\n",
    "device = torch.device('cuda')"
   ]
  },
  {
   "cell_type": "code",
   "execution_count": 2,
   "metadata": {},
   "outputs": [],
   "source": [
    "def convert_lines(example, max_seq_length,tokenizer):\n",
    "    max_seq_length -=2\n",
    "    all_tokens = []\n",
    "    longer = 0\n",
    "    for text in tqdm(example):\n",
    "        tokens_a = tokenizer.tokenize(text)\n",
    "        if len(tokens_a)>max_seq_length:\n",
    "            tokens_a = tokens_a[:max_seq_length]\n",
    "            longer += 1\n",
    "        one_token = tokenizer.convert_tokens_to_ids([\"[CLS]\"]+tokens_a+[\"[SEP]\"])+[0] * (max_seq_length - len(tokens_a))\n",
    "        all_tokens.append(one_token)\n",
    "    return np.array(all_tokens)"
   ]
  },
  {
   "cell_type": "code",
   "execution_count": 3,
   "metadata": {},
   "outputs": [],
   "source": [
    "MAX_SEQUENCE_LENGTH = 220\n",
    "SEED = 1234\n",
    "BATCH_SIZE = 32\n",
    "BERT_MODEL_PATH = './datas/uncased_L-12_H-768_A-12'\n",
    "\n",
    "np.random.seed(SEED)\n",
    "torch.manual_seed(SEED)\n",
    "torch.cuda.manual_seed(SEED)\n",
    "torch.backends.cudnn.deterministic = True\n",
    "\n",
    "EPOCHS = 1\n",
    "TOXICITY_COLUMN = 'target'\n",
    "bert_config = BertConfig('./datas/bert_config.json')\n",
    "tokenizer = BertTokenizer.from_pretrained(BERT_MODEL_PATH, do_lower_case=True)"
   ]
  },
  {
   "cell_type": "code",
   "execution_count": 4,
   "metadata": {},
   "outputs": [
    {
     "name": "stdout",
     "output_type": "stream",
     "text": [
      "train 10000 records\n"
     ]
    },
    {
     "name": "stderr",
     "output_type": "stream",
     "text": [
      "  1%|▏         | 146/10000 [00:00<00:06, 1448.47it/s]"
     ]
    },
    {
     "name": "stdout",
     "output_type": "stream",
     "text": [
      "valid 10000 records\n"
     ]
    },
    {
     "name": "stderr",
     "output_type": "stream",
     "text": [
      "100%|██████████| 10000/10000 [00:06<00:00, 1575.15it/s]\n",
      "100%|██████████| 10000/10000 [00:08<00:00, 1198.00it/s]\n"
     ]
    }
   ],
   "source": [
    "train_df = pd.read_csv(\"./datas/train.csv\").sample(10000)\n",
    "print('train %d records' % len(train_df))\n",
    "train_df['comment_text'] = train_df['comment_text'].astype(str)\n",
    "\n",
    "valid_df = pd.read_csv(\"./datas/train_multi.csv\").sample(10000)\n",
    "valid_df['comment_text'] = valid_df['comment_text'].astype(str)\n",
    "print('valid %d records' % len(valid_df))\n",
    "\n",
    "train_seqs = convert_lines(train_df[\"comment_text\"].fillna(\"DUMMY_VALUE\"), MAX_SEQUENCE_LENGTH, tokenizer)\n",
    "valid_seqs = convert_lines(valid_df[\"comment_text\"].fillna(\"DUMMY_VALUE\"), MAX_SEQUENCE_LENGTH, tokenizer)\n",
    "train_df=train_df.fillna(0)\n",
    "identity_columns = [\n",
    "    'male', 'female', 'homosexual_gay_or_lesbian', 'christian', 'jewish',\n",
    "    'muslim', 'black', 'white', 'psychiatric_or_mental_illness']\n",
    "y_columns=['target']\n",
    "\n",
    "train_df = train_df.drop(['comment_text'],axis=1)\n",
    "train_df['target']=(train_df['target']>=0.5).astype(float)\n",
    "\n",
    "valid_df = valid_df.fillna(0)\n",
    "valid_df = valid_df.drop(['comment_text'],axis=1)\n",
    "valid_df['target'] = (valid_df['toxic'] == 1) | (valid_df['severe_toxic'] == 1)\n",
    "valid_df['target'] = valid_df['target'] | (valid_df['obscene'] == 1)\n",
    "valid_df['target'] = valid_df['target'] | (valid_df['threat'] == 1)\n",
    "valid_df['target'] = valid_df['target'] | (valid_df['insult'] == 1)\n",
    "valid_df['target'] = valid_df['target'] | (valid_df['identity_hate'] == 1)\n",
    "valid_df['target'] = valid_df['target'].astype(float)"
   ]
  },
  {
   "cell_type": "code",
   "execution_count": 11,
   "metadata": {},
   "outputs": [
    {
     "name": "stdout",
     "output_type": "stream",
     "text": [
      "(10000, 220)\n",
      "(10000,)\n",
      "(10000, 220)\n",
      "(10000,)\n",
      "(10000, 440)\n",
      "(20000,)\n"
     ]
    }
   ],
   "source": [
    "X = train_seqs[:]\n",
    "y = train_df['target'].values[:]\n",
    "valid_X = valid_seqs[:]\n",
    "valid_y = valid_df['target'].values[:]\n",
    "print(X.shape)\n",
    "print(y.shape)\n",
    "print(valid_X.shape)\n",
    "print(valid_y.shape)\n",
    "X = np.concatenate((X, valid_X), axis=1)\n",
    "y = np.concatenate((y, valid_y), axis=0)\n",
    "print(X.shape)\n",
    "print(y.shape)"
   ]
  },
  {
   "cell_type": "code",
   "execution_count": null,
   "metadata": {},
   "outputs": [],
   "source": []
  }
 ],
 "metadata": {
  "kernelspec": {
   "display_name": "py35",
   "language": "python",
   "name": "py35"
  },
  "language_info": {
   "codemirror_mode": {
    "name": "ipython",
    "version": 3
   },
   "file_extension": ".py",
   "mimetype": "text/x-python",
   "name": "python",
   "nbconvert_exporter": "python",
   "pygments_lexer": "ipython3",
   "version": "3.5.6"
  }
 },
 "nbformat": 4,
 "nbformat_minor": 1
}
